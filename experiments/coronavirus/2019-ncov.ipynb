{
 "cells": [
  {
   "cell_type": "code",
   "execution_count": 1,
   "metadata": {},
   "outputs": [
    {
     "name": "stderr",
     "output_type": "stream",
     "text": [
      "\n",
      "Attaching package: ‘spectralGraphTopology’\n",
      "\n",
      "\n",
      "The following object is masked from ‘package:stats’:\n",
      "\n",
      "    D\n",
      "\n",
      "\n",
      "\n",
      "Attaching package: ‘igraph’\n",
      "\n",
      "\n",
      "The following objects are masked from ‘package:stats’:\n",
      "\n",
      "    decompose, spectrum\n",
      "\n",
      "\n",
      "The following object is masked from ‘package:base’:\n",
      "\n",
      "    union\n",
      "\n",
      "\n",
      "Warning message:\n",
      "“package ‘scales’ was built under R version 3.6.2”\n"
     ]
    }
   ],
   "source": [
    "library(data.table)\n",
    "library(mltools)\n",
    "library(sparseGraph)\n",
    "library(spectralGraphTopology)\n",
    "library(igraph)\n",
    "library(scales)\n",
    "set.seed(42)"
   ]
  },
  {
   "cell_type": "code",
   "execution_count": 2,
   "metadata": {},
   "outputs": [],
   "source": [
    "df <- read.csv(\"corona-virus.csv\")"
   ]
  },
  {
   "cell_type": "code",
   "execution_count": 3,
   "metadata": {},
   "outputs": [],
   "source": [
    "df <- one_hot(as.data.table(df))"
   ]
  },
  {
   "cell_type": "code",
   "execution_count": 4,
   "metadata": {},
   "outputs": [],
   "source": [
    "p <- nrow(df)"
   ]
  },
  {
   "cell_type": "code",
   "execution_count": 5,
   "metadata": {},
   "outputs": [],
   "source": [
    "Y <- t(matrix(as.numeric(unlist(df)), nrow = nrow(df)))\n",
    "labels <- Y[nrow(Y), 1:p]"
   ]
  },
  {
   "cell_type": "code",
   "execution_count": 6,
   "metadata": {},
   "outputs": [],
   "source": [
    "Y <- Y[1:(nrow(Y)-1), 1:p]"
   ]
  },
  {
   "cell_type": "code",
   "execution_count": 7,
   "metadata": {},
   "outputs": [
    {
     "data": {
      "text/html": [
       "<ol class=list-inline>\n",
       "\t<li>32</li>\n",
       "\t<li>98</li>\n",
       "</ol>\n"
      ],
      "text/latex": [
       "\\begin{enumerate*}\n",
       "\\item 32\n",
       "\\item 98\n",
       "\\end{enumerate*}\n"
      ],
      "text/markdown": [
       "1. 32\n",
       "2. 98\n",
       "\n",
       "\n"
      ],
      "text/plain": [
       "[1] 32 98"
      ]
     },
     "metadata": {},
     "output_type": "display_data"
    }
   ],
   "source": [
    "dim(Y)"
   ]
  },
  {
   "cell_type": "code",
   "execution_count": 8,
   "metadata": {},
   "outputs": [],
   "source": [
    "S <- cor(Y)"
   ]
  },
  {
   "cell_type": "code",
   "execution_count": 9,
   "metadata": {},
   "outputs": [],
   "source": [
    "graph_mcp <- learn_laplacian_pgd_connected(S = S + diag(1/p, p, p),\n",
    "                                           alpha = 1.2, sparsity_type = \"mcp\", gamma = 1.01,\n",
    "                                           verbose = FALSE, maxiter = 1000)"
   ]
  },
  {
   "cell_type": "code",
   "execution_count": 10,
   "metadata": {},
   "outputs": [],
   "source": [
    "graph_scad <- learn_laplacian_pgd_connected(S = S + diag(1/p, p, p),\n",
    "                                           alpha = .65, sparsity_type = \"scad\", gamma = 2.01,\n",
    "                                           verbose = FALSE, maxiter = 1000)"
   ]
  },
  {
   "cell_type": "code",
   "execution_count": 11,
   "metadata": {},
   "outputs": [],
   "source": [
    "graph_admm <- learn_laplacian_gle_admm(S = S + diag(1/p, p, p), verbose = FALSE)"
   ]
  },
  {
   "cell_type": "code",
   "execution_count": 12,
   "metadata": {},
   "outputs": [
    {
     "data": {
      "text/html": [
       "345"
      ],
      "text/latex": [
       "345"
      ],
      "text/markdown": [
       "345"
      ],
      "text/plain": [
       "[1] 345"
      ]
     },
     "metadata": {},
     "output_type": "display_data"
    }
   ],
   "source": [
    ".5 * sum(graph_scad$adjacency > 0)"
   ]
  },
  {
   "cell_type": "code",
   "execution_count": 13,
   "metadata": {},
   "outputs": [
    {
     "data": {
      "text/html": [
       "348"
      ],
      "text/latex": [
       "348"
      ],
      "text/markdown": [
       "348"
      ],
      "text/plain": [
       "[1] 348"
      ]
     },
     "metadata": {},
     "output_type": "display_data"
    }
   ],
   "source": [
    ".5 * sum(graph_mcp$adjacency > 0)"
   ]
  },
  {
   "cell_type": "code",
   "execution_count": 14,
   "metadata": {},
   "outputs": [
    {
     "data": {
      "text/html": [
       "4697"
      ],
      "text/latex": [
       "4697"
      ],
      "text/markdown": [
       "4697"
      ],
      "text/plain": [
       "[1] 4697"
      ]
     },
     "metadata": {},
     "output_type": "display_data"
    }
   ],
   "source": [
    ".5 * sum(graph_admm$adjacency > 0)"
   ]
  },
  {
   "cell_type": "code",
   "execution_count": 15,
   "metadata": {},
   "outputs": [
    {
     "data": {
      "text/html": [
       "<strong>elapsed:</strong> 0.398999999999999"
      ],
      "text/latex": [
       "\\textbf{elapsed:} 0.398999999999999"
      ],
      "text/markdown": [
       "**elapsed:** 0.398999999999999"
      ],
      "text/plain": [
       "elapsed \n",
       "  0.399 "
      ]
     },
     "metadata": {},
     "output_type": "display_data"
    }
   ],
   "source": [
    "graph_mcp$elapsed_time[length(graph_mcp$elapsed_time)]"
   ]
  },
  {
   "cell_type": "code",
   "execution_count": 16,
   "metadata": {},
   "outputs": [
    {
     "data": {
      "text/html": [
       "<strong>elapsed:</strong> 0.746"
      ],
      "text/latex": [
       "\\textbf{elapsed:} 0.746"
      ],
      "text/markdown": [
       "**elapsed:** 0.746"
      ],
      "text/plain": [
       "elapsed \n",
       "  0.746 "
      ]
     },
     "metadata": {},
     "output_type": "display_data"
    }
   ],
   "source": [
    "graph_scad$elapsed_time[length(graph_scad$elapsed_time)]"
   ]
  },
  {
   "cell_type": "code",
   "execution_count": 17,
   "metadata": {},
   "outputs": [],
   "source": [
    "net <- graph_from_adjacency_matrix(graph_mcp$adjacency, mode = \"undirected\", weighted = TRUE)\n",
    "la_true <- layout_nicely(net)\n",
    "colors <- c(\"#1abc9c\", \"#ff5252\")\n",
    "clusters <- array(0, length(labels))\n",
    "for (i in c(1:length(labels))) {\n",
    "  if (labels[i] == 0) {\n",
    "    clusters[i] = 1\n",
    "  } else if (labels[i] == 1) {\n",
    "    clusters[i] = 2\n",
    "  }\n",
    "}\n",
    "V(net)$cluster <- clusters\n",
    "E(net)$color <- apply(as.data.frame(get.edgelist(net)), 1,\n",
    "                     function(x) ifelse(V(net)$cluster[x[1]] == V(net)$cluster[x[2]],\n",
    "                                        colors[V(net)$cluster[x[1]]], \"grey\"))\n",
    "V(net)$color <- colors[clusters]"
   ]
  },
  {
   "cell_type": "code",
   "execution_count": 18,
   "metadata": {},
   "outputs": [],
   "source": [
    "graph_mcp <- learn_laplacian_pgd_connected(S = S + diag(1/p, p, p),\n",
    "                                           alpha = 1, sparsity_type = \"mcp\", gamma = 1.01,\n",
    "                                           verbose = FALSE, maxiter = 1000)"
   ]
  },
  {
   "cell_type": "code",
   "execution_count": 19,
   "metadata": {},
   "outputs": [
    {
     "data": {
      "text/html": [
       "<strong>pdf:</strong> 2"
      ],
      "text/latex": [
       "\\textbf{pdf:} 2"
      ],
      "text/markdown": [
       "**pdf:** 2"
      ],
      "text/plain": [
       "pdf \n",
       "  2 "
      ]
     },
     "metadata": {},
     "output_type": "display_data"
    }
   ],
   "source": [
    "setEPS()\n",
    "postscript(\"mcp-covid-lambda-1.ps\", height = 7, width = 7)\n",
    "net <- graph_from_adjacency_matrix(graph_mcp$adjacency, mode = \"undirected\", weighted = TRUE)\n",
    "V(net)$cluster <- clusters\n",
    "E(net)$color <- apply(as.data.frame(get.edgelist(net)), 1,\n",
    "                     function(x) ifelse(V(net)$cluster[x[1]] == V(net)$cluster[x[2]],\n",
    "                                        colors[V(net)$cluster[x[1]]], \"grey\"))\n",
    "V(net)$color <- colors[clusters]\n",
    "plot(net, layout = la_true,\n",
    "     vertex.label = NA, vertex.size = 4, vertex.shape = 'square',\n",
    "     edge.width = E(net)$weight / mean(E(net)$weight))\n",
    "dev.off()"
   ]
  },
  {
   "cell_type": "code",
   "execution_count": 20,
   "metadata": {},
   "outputs": [
    {
     "data": {
      "text/html": [
       "1693"
      ],
      "text/latex": [
       "1693"
      ],
      "text/markdown": [
       "1693"
      ],
      "text/plain": [
       "[1] 1693"
      ]
     },
     "metadata": {},
     "output_type": "display_data"
    }
   ],
   "source": [
    ".5 * sum(graph_mcp$adjacency > 0)"
   ]
  },
  {
   "cell_type": "code",
   "execution_count": 21,
   "metadata": {},
   "outputs": [
    {
     "data": {
      "text/html": [
       "<strong>pdf:</strong> 2"
      ],
      "text/latex": [
       "\\textbf{pdf:} 2"
      ],
      "text/markdown": [
       "**pdf:** 2"
      ],
      "text/plain": [
       "pdf \n",
       "  2 "
      ]
     },
     "metadata": {},
     "output_type": "display_data"
    }
   ],
   "source": [
    "setEPS()\n",
    "postscript(\"scad-covid-lambda-.65.ps\", height = 7, width = 7)\n",
    "net <- graph_from_adjacency_matrix(graph_scad$adjacency, mode = \"undirected\", weighted = TRUE)\n",
    "V(net)$cluster <- clusters\n",
    "E(net)$color <- apply(as.data.frame(get.edgelist(net)), 1,\n",
    "                     function(x) ifelse(V(net)$cluster[x[1]] == V(net)$cluster[x[2]],\n",
    "                                        colors[V(net)$cluster[x[1]]], \"grey\"))\n",
    "V(net)$color <- colors[clusters]\n",
    "plot(net, layout = la_true,\n",
    "     vertex.label = NA, vertex.size = 4, vertex.shape = 'square',\n",
    "     edge.width = E(net)$weight / mean(E(net)$weight))\n",
    "dev.off()"
   ]
  },
  {
   "cell_type": "code",
   "execution_count": 22,
   "metadata": {},
   "outputs": [
    {
     "data": {
      "text/html": [
       "<strong>pdf:</strong> 2"
      ],
      "text/latex": [
       "\\textbf{pdf:} 2"
      ],
      "text/markdown": [
       "**pdf:** 2"
      ],
      "text/plain": [
       "pdf \n",
       "  2 "
      ]
     },
     "metadata": {},
     "output_type": "display_data"
    }
   ],
   "source": [
    "setEPS()\n",
    "postscript(\"admm-covid-lambda-0.ps\", height = 7, width = 7)\n",
    "net <- graph_from_adjacency_matrix(graph_admm$adjacency, mode = \"undirected\", weighted = TRUE)\n",
    "V(net)$cluster <- clusters\n",
    "E(net)$color <- apply(as.data.frame(get.edgelist(net)), 1,\n",
    "                     function(x) ifelse(V(net)$cluster[x[1]] == V(net)$cluster[x[2]],\n",
    "                                        colors[V(net)$cluster[x[1]]], \"grey\"))\n",
    "V(net)$color <- colors[clusters]\n",
    "plot(net, layout = la_true,\n",
    "     vertex.label = NA, vertex.size = 4, vertex.shape = 'square',\n",
    "     edge.width = E(net)$weight / mean(E(net)$weight))\n",
    "dev.off()"
   ]
  },
  {
   "cell_type": "code",
   "execution_count": 25,
   "metadata": {},
   "outputs": [
    {
     "data": {
      "text/html": [
       "4697"
      ],
      "text/latex": [
       "4697"
      ],
      "text/markdown": [
       "4697"
      ],
      "text/plain": [
       "[1] 4697"
      ]
     },
     "metadata": {},
     "output_type": "display_data"
    }
   ],
   "source": [
    ".5 * sum(graph_admm$adjacency > 0)"
   ]
  },
  {
   "cell_type": "code",
   "execution_count": 26,
   "metadata": {},
   "outputs": [],
   "source": [
    "graph_admm <- learn_laplacian_gle_admm(S = S + diag(1/p, p, p), alpha = 5e-2, verbose = FALSE)"
   ]
  },
  {
   "cell_type": "code",
   "execution_count": 26,
   "metadata": {},
   "outputs": [
    {
     "data": {
      "text/html": [
       "<strong>pdf:</strong> 2"
      ],
      "text/latex": [
       "\\textbf{pdf:} 2"
      ],
      "text/markdown": [
       "**pdf:** 2"
      ],
      "text/plain": [
       "pdf \n",
       "  2 "
      ]
     },
     "metadata": {},
     "output_type": "display_data"
    }
   ],
   "source": [
    "setEPS()\n",
    "postscript(\"admm-covid-lambda-0.05.ps\", height = 7, width = 7)\n",
    "net <- graph_from_adjacency_matrix(graph_admm$adjacency, mode = \"undirected\", weighted = TRUE)\n",
    "V(net)$cluster <- clusters\n",
    "E(net)$color <- apply(as.data.frame(get.edgelist(net)), 1,\n",
    "                     function(x) ifelse(V(net)$cluster[x[1]] == V(net)$cluster[x[2]],\n",
    "                                        colors[V(net)$cluster[x[1]]], \"grey\"))\n",
    "V(net)$color <- colors[clusters]\n",
    "plot(net, layout = la_true,\n",
    "     vertex.label = NA, vertex.size = 4, vertex.shape = 'square',\n",
    "     edge.width = E(net)$weight / mean(E(net)$weight))\n",
    "dev.off()"
   ]
  },
  {
   "cell_type": "code",
   "execution_count": 27,
   "metadata": {},
   "outputs": [
    {
     "data": {
      "text/html": [
       "4750"
      ],
      "text/latex": [
       "4750"
      ],
      "text/markdown": [
       "4750"
      ],
      "text/plain": [
       "[1] 4750"
      ]
     },
     "metadata": {},
     "output_type": "display_data"
    }
   ],
   "source": [
    ".5 * sum(graph_admm$adjacency > 0)"
   ]
  },
  {
   "cell_type": "code",
   "execution_count": 33,
   "metadata": {},
   "outputs": [
    {
     "data": {
      "text/html": [
       "4753"
      ],
      "text/latex": [
       "4753"
      ],
      "text/markdown": [
       "4753"
      ],
      "text/plain": [
       "[1] 4753"
      ]
     },
     "metadata": {},
     "output_type": "display_data"
    }
   ],
   "source": [
    "98 * 97 / 2"
   ]
  },
  {
   "cell_type": "code",
   "execution_count": 41,
   "metadata": {},
   "outputs": [],
   "source": [
    "library(ggplot2)"
   ]
  },
  {
   "cell_type": "code",
   "execution_count": 54,
   "metadata": {},
   "outputs": [
    {
     "data": {
      "image/png": "[encoded data removed]",
      "text/plain": [
       "plot without title"
      ]
     },
     "metadata": {
      "image/png": {
       "height": 420,
       "width": 420
      },
      "text/plain": {
       "height": 420,
       "width": 420
      }
     },
     "output_type": "display_data"
    }
   ],
   "source": [
    "df <- data.frame(weight=E(net)$weight)\n",
    "#setEPS()\n",
    "#cairo_ps(\"true-graph-hist.ps\", family = \"Palatino\", height = 5, width = gr * 3.5,\n",
    "#         pointsize = 28, fallback_resolution = 1400)\n",
    "ggplot(df, aes(x=weight)) + #coord_cartesian(xlim = c(0, min(E(net)$weight)), ylim = c(0, 9)) + # xlim(0, 5) +\n",
    " geom_histogram(colour=\"black\", fill=\"#786fa6\", bins=20) + \n",
    " ggtitle(\"\") + xlab(\"Non-zero graph weights value\") + ylab(\"Counts\") +\n",
    " theme(text = element_text(size=26)) #+ scale_y_discrete(name = \"Counts\")#, limits = c(seq(from=0, to=8, by=2)))\n",
    "#dev.off()"
   ]
  },
  {
   "cell_type": "code",
   "execution_count": null,
   "metadata": {},
   "outputs": [],
   "source": []
  }
 ],
 "metadata": {
  "kernelspec": {
   "display_name": "R",
   "language": "R",
   "name": "ir"
  },
  "language_info": {
   "codemirror_mode": "r",
   "file_extension": ".r",
   "mimetype": "text/x-r-source",
   "name": "R",
   "pygments_lexer": "r",
   "version": "3.6.1"
  }
 },
 "nbformat": 4,
 "nbformat_minor": 4
}
